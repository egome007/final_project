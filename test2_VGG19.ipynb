{
 "cells": [
  {
   "cell_type": "code",
   "execution_count": 1,
   "metadata": {},
   "outputs": [],
   "source": [
    "import matplotlib.pyplot as plt\n",
    "%matplotlib inline\n",
    "\n",
    "from IPython.display import Image, SVG\n",
    "import numpy as np\n",
    "np.random.seed(0)\n",
    "\n",
    "\n",
    "import os\n",
    "import tensorflow as tf\n",
    "\n",
    "from tensorflow import keras\n",
    "from tensorflow.keras.preprocessing import image\n",
    "from tensorflow.keras.utils import to_categorical\n",
    "from tensorflow.keras.layers import Dense, Dropout, Flatten\n",
    "from tensorflow.keras.models import Model\n",
    "from tensorflow.keras.applications.vgg19 import (\n",
    "    VGG19, \n",
    "    preprocess_input, \n",
    "    decode_predictions\n",
    ")"
   ]
  },
  {
   "cell_type": "code",
   "execution_count": 2,
   "metadata": {},
   "outputs": [],
   "source": [
    "#Load the model VGG19\n",
    "model = VGG19(include_top=True, weights='imagenet')"
   ]
  },
  {
   "cell_type": "code",
   "execution_count": 3,
   "metadata": {},
   "outputs": [
    {
     "name": "stdout",
     "output_type": "stream",
     "text": [
      "Model: \"vgg19\"\n",
      "_________________________________________________________________\n",
      "Layer (type)                 Output Shape              Param #   \n",
      "=================================================================\n",
      "input_1 (InputLayer)         [(None, 224, 224, 3)]     0         \n",
      "_________________________________________________________________\n",
      "block1_conv1 (Conv2D)        (None, 224, 224, 64)      1792      \n",
      "_________________________________________________________________\n",
      "block1_conv2 (Conv2D)        (None, 224, 224, 64)      36928     \n",
      "_________________________________________________________________\n",
      "block1_pool (MaxPooling2D)   (None, 112, 112, 64)      0         \n",
      "_________________________________________________________________\n",
      "block2_conv1 (Conv2D)        (None, 112, 112, 128)     73856     \n",
      "_________________________________________________________________\n",
      "block2_conv2 (Conv2D)        (None, 112, 112, 128)     147584    \n",
      "_________________________________________________________________\n",
      "block2_pool (MaxPooling2D)   (None, 56, 56, 128)       0         \n",
      "_________________________________________________________________\n",
      "block3_conv1 (Conv2D)        (None, 56, 56, 256)       295168    \n",
      "_________________________________________________________________\n",
      "block3_conv2 (Conv2D)        (None, 56, 56, 256)       590080    \n",
      "_________________________________________________________________\n",
      "block3_conv3 (Conv2D)        (None, 56, 56, 256)       590080    \n",
      "_________________________________________________________________\n",
      "block3_conv4 (Conv2D)        (None, 56, 56, 256)       590080    \n",
      "_________________________________________________________________\n",
      "block3_pool (MaxPooling2D)   (None, 28, 28, 256)       0         \n",
      "_________________________________________________________________\n",
      "block4_conv1 (Conv2D)        (None, 28, 28, 512)       1180160   \n",
      "_________________________________________________________________\n",
      "block4_conv2 (Conv2D)        (None, 28, 28, 512)       2359808   \n",
      "_________________________________________________________________\n",
      "block4_conv3 (Conv2D)        (None, 28, 28, 512)       2359808   \n",
      "_________________________________________________________________\n",
      "block4_conv4 (Conv2D)        (None, 28, 28, 512)       2359808   \n",
      "_________________________________________________________________\n",
      "block4_pool (MaxPooling2D)   (None, 14, 14, 512)       0         \n",
      "_________________________________________________________________\n",
      "block5_conv1 (Conv2D)        (None, 14, 14, 512)       2359808   \n",
      "_________________________________________________________________\n",
      "block5_conv2 (Conv2D)        (None, 14, 14, 512)       2359808   \n",
      "_________________________________________________________________\n",
      "block5_conv3 (Conv2D)        (None, 14, 14, 512)       2359808   \n",
      "_________________________________________________________________\n",
      "block5_conv4 (Conv2D)        (None, 14, 14, 512)       2359808   \n",
      "_________________________________________________________________\n",
      "block5_pool (MaxPooling2D)   (None, 7, 7, 512)         0         \n",
      "_________________________________________________________________\n",
      "flatten (Flatten)            (None, 25088)             0         \n",
      "_________________________________________________________________\n",
      "fc1 (Dense)                  (None, 4096)              102764544 \n",
      "_________________________________________________________________\n",
      "fc2 (Dense)                  (None, 4096)              16781312  \n",
      "_________________________________________________________________\n",
      "predictions (Dense)          (None, 1000)              4097000   \n",
      "=================================================================\n",
      "Total params: 143,667,240\n",
      "Trainable params: 143,667,240\n",
      "Non-trainable params: 0\n",
      "_________________________________________________________________\n"
     ]
    }
   ],
   "source": [
    "model.summary()"
   ]
  },
  {
   "cell_type": "code",
   "execution_count": 4,
   "metadata": {},
   "outputs": [
    {
     "data": {
      "text/plain": [
       "[<tensorflow.python.keras.engine.input_layer.InputLayer at 0x1f03424bcc0>,\n",
       " <tensorflow.python.keras.layers.convolutional.Conv2D at 0x1f03424bd30>,\n",
       " <tensorflow.python.keras.layers.convolutional.Conv2D at 0x1f034273550>,\n",
       " <tensorflow.python.keras.layers.pooling.MaxPooling2D at 0x1f03c832ac8>,\n",
       " <tensorflow.python.keras.layers.convolutional.Conv2D at 0x1f03c832b38>,\n",
       " <tensorflow.python.keras.layers.convolutional.Conv2D at 0x1f03d83b2e8>,\n",
       " <tensorflow.python.keras.layers.pooling.MaxPooling2D at 0x1f03d848588>,\n",
       " <tensorflow.python.keras.layers.convolutional.Conv2D at 0x1f03d848c18>,\n",
       " <tensorflow.python.keras.layers.convolutional.Conv2D at 0x1f03d85ed68>,\n",
       " <tensorflow.python.keras.layers.convolutional.Conv2D at 0x1f03d86eeb8>,\n",
       " <tensorflow.python.keras.layers.convolutional.Conv2D at 0x1f03d8952e8>,\n",
       " <tensorflow.python.keras.layers.pooling.MaxPooling2D at 0x1f03d8a1588>,\n",
       " <tensorflow.python.keras.layers.convolutional.Conv2D at 0x1f03d8a1c18>,\n",
       " <tensorflow.python.keras.layers.convolutional.Conv2D at 0x1f03d8b0d68>,\n",
       " <tensorflow.python.keras.layers.convolutional.Conv2D at 0x1f03d8c5eb8>,\n",
       " <tensorflow.python.keras.layers.convolutional.Conv2D at 0x1f03d8ed2e8>,\n",
       " <tensorflow.python.keras.layers.pooling.MaxPooling2D at 0x1f03d8f9588>,\n",
       " <tensorflow.python.keras.layers.convolutional.Conv2D at 0x1f03d8f9c18>,\n",
       " <tensorflow.python.keras.layers.convolutional.Conv2D at 0x1f03d908d68>,\n",
       " <tensorflow.python.keras.layers.convolutional.Conv2D at 0x1f03d91ceb8>,\n",
       " <tensorflow.python.keras.layers.convolutional.Conv2D at 0x1f03d9422e8>,\n",
       " <tensorflow.python.keras.layers.pooling.MaxPooling2D at 0x1f03d951588>,\n",
       " <tensorflow.python.keras.layers.core.Flatten at 0x1f03d951c18>,\n",
       " <tensorflow.python.keras.layers.core.Dense at 0x1f03d962940>,\n",
       " <tensorflow.python.keras.layers.core.Dense at 0x1f03d962c88>,\n",
       " <tensorflow.python.keras.layers.core.Dense at 0x1f03d97dba8>]"
      ]
     },
     "execution_count": 4,
     "metadata": {},
     "output_type": "execute_result"
    }
   ],
   "source": [
    "model.layers"
   ]
  },
  {
   "cell_type": "code",
   "execution_count": 5,
   "metadata": {},
   "outputs": [],
   "source": [
    "old_model_hidden_layer_output = model.layers[-4].output\n",
    "my_new_layer_0 = Dense(2056, activation='elu', kernel_initializer='he_normal', name='my_fc1')(old_model_hidden_layer_output)\n",
    "my_new_layer_1 = Dense(1024, activation='elu', kernel_initializer='he_normal', name='my_fc2')(my_new_layer_0)\n",
    "my_new_layer_2 = Dense(512, activation='elu', kernel_initializer='he_normal', name='my_fc3')(my_new_layer_1)\n",
    "my_new_layer_3 = Dense(4, activation='softmax', name='house_predictions')(my_new_layer_2)\n",
    "my_new_model = Model(inputs=model.inputs, outputs=[my_new_layer_3])"
   ]
  },
  {
   "cell_type": "code",
   "execution_count": 6,
   "metadata": {},
   "outputs": [
    {
     "name": "stdout",
     "output_type": "stream",
     "text": [
      "Model: \"model\"\n",
      "_________________________________________________________________\n",
      "Layer (type)                 Output Shape              Param #   \n",
      "=================================================================\n",
      "input_1 (InputLayer)         [(None, 224, 224, 3)]     0         \n",
      "_________________________________________________________________\n",
      "block1_conv1 (Conv2D)        (None, 224, 224, 64)      1792      \n",
      "_________________________________________________________________\n",
      "block1_conv2 (Conv2D)        (None, 224, 224, 64)      36928     \n",
      "_________________________________________________________________\n",
      "block1_pool (MaxPooling2D)   (None, 112, 112, 64)      0         \n",
      "_________________________________________________________________\n",
      "block2_conv1 (Conv2D)        (None, 112, 112, 128)     73856     \n",
      "_________________________________________________________________\n",
      "block2_conv2 (Conv2D)        (None, 112, 112, 128)     147584    \n",
      "_________________________________________________________________\n",
      "block2_pool (MaxPooling2D)   (None, 56, 56, 128)       0         \n",
      "_________________________________________________________________\n",
      "block3_conv1 (Conv2D)        (None, 56, 56, 256)       295168    \n",
      "_________________________________________________________________\n",
      "block3_conv2 (Conv2D)        (None, 56, 56, 256)       590080    \n",
      "_________________________________________________________________\n",
      "block3_conv3 (Conv2D)        (None, 56, 56, 256)       590080    \n",
      "_________________________________________________________________\n",
      "block3_conv4 (Conv2D)        (None, 56, 56, 256)       590080    \n",
      "_________________________________________________________________\n",
      "block3_pool (MaxPooling2D)   (None, 28, 28, 256)       0         \n",
      "_________________________________________________________________\n",
      "block4_conv1 (Conv2D)        (None, 28, 28, 512)       1180160   \n",
      "_________________________________________________________________\n",
      "block4_conv2 (Conv2D)        (None, 28, 28, 512)       2359808   \n",
      "_________________________________________________________________\n",
      "block4_conv3 (Conv2D)        (None, 28, 28, 512)       2359808   \n",
      "_________________________________________________________________\n",
      "block4_conv4 (Conv2D)        (None, 28, 28, 512)       2359808   \n",
      "_________________________________________________________________\n",
      "block4_pool (MaxPooling2D)   (None, 14, 14, 512)       0         \n",
      "_________________________________________________________________\n",
      "block5_conv1 (Conv2D)        (None, 14, 14, 512)       2359808   \n",
      "_________________________________________________________________\n",
      "block5_conv2 (Conv2D)        (None, 14, 14, 512)       2359808   \n",
      "_________________________________________________________________\n",
      "block5_conv3 (Conv2D)        (None, 14, 14, 512)       2359808   \n",
      "_________________________________________________________________\n",
      "block5_conv4 (Conv2D)        (None, 14, 14, 512)       2359808   \n",
      "_________________________________________________________________\n",
      "block5_pool (MaxPooling2D)   (None, 7, 7, 512)         0         \n",
      "_________________________________________________________________\n",
      "flatten (Flatten)            (None, 25088)             0         \n",
      "_________________________________________________________________\n",
      "my_fc1 (Dense)               (None, 2056)              51582984  \n",
      "_________________________________________________________________\n",
      "my_fc2 (Dense)               (None, 1024)              2106368   \n",
      "_________________________________________________________________\n",
      "my_fc3 (Dense)               (None, 512)               524800    \n",
      "_________________________________________________________________\n",
      "house_predictions (Dense)    (None, 4)                 2052      \n",
      "=================================================================\n",
      "Total params: 74,240,588\n",
      "Trainable params: 74,240,588\n",
      "Non-trainable params: 0\n",
      "_________________________________________________________________\n"
     ]
    }
   ],
   "source": [
    "my_new_model.summary()"
   ]
  },
  {
   "cell_type": "code",
   "execution_count": 7,
   "metadata": {},
   "outputs": [],
   "source": [
    "ROOT_PATH = os.path.join(\"data\")\n",
    "IMAGE_SIZE = (224, 224)"
   ]
  },
  {
   "cell_type": "code",
   "execution_count": 8,
   "metadata": {},
   "outputs": [],
   "source": [
    "from typing import List, Tuple, Callable\n",
    "from collections import namedtuple"
   ]
  },
  {
   "cell_type": "code",
   "execution_count": 9,
   "metadata": {},
   "outputs": [],
   "source": [
    "Home = namedtuple(\"Home\", ['style', 'number'])"
   ]
  },
  {
   "cell_type": "code",
   "execution_count": 10,
   "metadata": {},
   "outputs": [],
   "source": [
    "HOMES = [Home('spanish', 700), Home('tudor', 755), Home('victorian', 853), Home('craftsman', 822)]"
   ]
  },
  {
   "cell_type": "code",
   "execution_count": 11,
   "metadata": {},
   "outputs": [],
   "source": [
    "def get_one_image_of_style(style: str, image_number: int):\n",
    "  image_path = os.path.join(ROOT_PATH, style, f\"{style}_{image_number}.jpg\")\n",
    "  img = image.load_img(image_path, target_size=IMAGE_SIZE)\n",
    "  return image.img_to_array(img)\n",
    "\n",
    "assert get_one_image_of_style('tudor', 0).shape == (224, 224, 3)"
   ]
  },
  {
   "cell_type": "code",
   "execution_count": 12,
   "metadata": {},
   "outputs": [],
   "source": [
    "def get_all_inputs_for_one_style(style: str, number_of_images: int):\n",
    "  return np.array([get_one_image_of_style(style, image_number) for image_number in range(number_of_images)])\n",
    "\n",
    "assert get_all_inputs_for_one_style('tudor', 10).shape[0] == 10"
   ]
  },
  {
   "cell_type": "code",
   "execution_count": 13,
   "metadata": {},
   "outputs": [],
   "source": [
    "def get_outputs_for_one_style(homes_style: str, number_of_homes: int):\n",
    "  return np.array([homes_style for _ in range(number_of_homes)])\n",
    "\n",
    "assert not isinstance(get_outputs_for_one_style('generic', 2), list)\n",
    "assert isinstance(get_outputs_for_one_style('generic', 2), np.ndarray)\n",
    "assert list(get_outputs_for_one_style('generic', 2)) == ['generic', 'generic']"
   ]
  },
  {
   "cell_type": "code",
   "execution_count": 14,
   "metadata": {},
   "outputs": [],
   "source": [
    "def merge_styles(homes: List[Home], func: Callable):\n",
    "  all_styles = [func(home.style, home.number) for home in homes]\n",
    "  return np.concatenate(all_styles, axis=0)"
   ]
  },
  {
   "cell_type": "code",
   "execution_count": 15,
   "metadata": {},
   "outputs": [],
   "source": [
    "X = merge_styles(HOMES, get_all_inputs_for_one_style)\n",
    "assert X.shape == (3130, 224, 224, 3)"
   ]
  },
  {
   "cell_type": "code",
   "execution_count": 16,
   "metadata": {},
   "outputs": [],
   "source": [
    "y = merge_styles(HOMES, get_outputs_for_one_style)\n",
    "assert y.shape == (3130,)"
   ]
  },
  {
   "cell_type": "code",
   "execution_count": 17,
   "metadata": {},
   "outputs": [],
   "source": [
    "# Use train_test_split to create training and testing data\n",
    "from sklearn.model_selection import train_test_split\n",
    "\n",
    "X_train, X_test, y_train, y_test = train_test_split(X, y,  random_state=0)"
   ]
  },
  {
   "cell_type": "code",
   "execution_count": 18,
   "metadata": {},
   "outputs": [
    {
     "data": {
      "text/plain": [
       "(2347, 4)"
      ]
     },
     "execution_count": 18,
     "metadata": {},
     "output_type": "execute_result"
    }
   ],
   "source": [
    "from sklearn.preprocessing import LabelEncoder\n",
    "label_encoder = LabelEncoder()\n",
    "label_encoder.fit(y_train)\n",
    "y_train = label_encoder.transform(y_train)\n",
    "y_train = to_categorical(y_train)\n",
    "y_train.shape"
   ]
  },
  {
   "cell_type": "code",
   "execution_count": 19,
   "metadata": {},
   "outputs": [],
   "source": [
    "y_test = to_categorical(label_encoder.transform(y_test))"
   ]
  },
  {
   "cell_type": "code",
   "execution_count": 20,
   "metadata": {},
   "outputs": [
    {
     "data": {
      "text/plain": [
       "(783, 4)"
      ]
     },
     "execution_count": 20,
     "metadata": {},
     "output_type": "execute_result"
    }
   ],
   "source": [
    "y_test.shape"
   ]
  },
  {
   "cell_type": "code",
   "execution_count": 21,
   "metadata": {},
   "outputs": [],
   "source": [
    "opt = keras.optimizers.Nadam(learning_rate=.00002)"
   ]
  },
  {
   "cell_type": "code",
   "execution_count": 22,
   "metadata": {},
   "outputs": [],
   "source": [
    "# Use categorical crossentropy for categorical data and mean squared error for regression\n",
    "# Hint: your output layer in this example is using software for logistic regression (categorical)\n",
    "# If your output layer activation was `linear` then you may want to use `mse` for loss\n",
    "my_new_model.compile(optimizer=opt,\n",
    "                     loss='categorical_crossentropy',\n",
    "                     metrics=['accuracy', 'categorical_accuracy'])"
   ]
  },
  {
   "cell_type": "code",
   "execution_count": null,
   "metadata": {},
   "outputs": [
    {
     "name": "stdout",
     "output_type": "stream",
     "text": [
      "Train on 2112 samples, validate on 235 samples\n",
      "Epoch 1/5\n",
      "2112/2112 [==============================] - 2337s 1s/sample - loss: 1.5762 - accuracy: 0.5431 - categorical_accuracy: 0.5431 - val_loss: 0.8128 - val_accuracy: 0.6851 - val_categorical_accuracy: 0.6851\n",
      "Epoch 2/5\n",
      "2112/2112 [==============================] - 2183s 1s/sample - loss: 0.4084 - accuracy: 0.8584 - categorical_accuracy: 0.8584 - val_loss: 0.7475 - val_accuracy: 0.7191 - val_categorical_accuracy: 0.7191\n",
      "Epoch 3/5\n",
      "1904/2112 [==========================>...] - ETA: 3:29 - loss: 0.1308 - accuracy: 0.9664 - categorical_accuracy: 0.9664"
     ]
    }
   ],
   "source": [
    "history = my_new_model.fit(X_train,\n",
    "                           y_train,\n",
    "                           batch_size=16,\n",
    "                           epochs=5,\n",
    "                           shuffle=True,\n",
    "                           validation_split=.1)"
   ]
  },
  {
   "cell_type": "code",
   "execution_count": null,
   "metadata": {},
   "outputs": [],
   "source": [
    "# Plot training & validation accuracy values\n",
    "plt.plot(history.history['acc'])\n",
    "plt.plot(history.history['val_acc'])\n",
    "plt.title('Model accuracy')\n",
    "plt.ylabel('Accuracy')\n",
    "plt.xlabel('Epoch')\n",
    "plt.legend(['Train', 'Test'], loc='upper left')\n",
    "plt.show()"
   ]
  },
  {
   "cell_type": "code",
   "execution_count": null,
   "metadata": {},
   "outputs": [],
   "source": [
    "# Plot training & validation loss values\n",
    "plt.plot(history.history['loss'])\n",
    "plt.plot(history.history['val_loss'])\n",
    "plt.title('Model loss')\n",
    "plt.ylabel('Loss')\n",
    "plt.xlabel('Epoch')\n",
    "plt.legend(['Train', 'Test'], loc='upper left')\n",
    "plt.show()"
   ]
  },
  {
   "cell_type": "code",
   "execution_count": null,
   "metadata": {},
   "outputs": [],
   "source": [
    "my_new_model.evaluate(x=X_test, y=y_test)"
   ]
  },
  {
   "cell_type": "code",
   "execution_count": null,
   "metadata": {},
   "outputs": [],
   "source": []
  },
  {
   "cell_type": "code",
   "execution_count": null,
   "metadata": {},
   "outputs": [],
   "source": []
  },
  {
   "cell_type": "code",
   "execution_count": null,
   "metadata": {},
   "outputs": [],
   "source": []
  }
 ],
 "metadata": {
  "kernelspec": {
   "display_name": "Python 3",
   "language": "python",
   "name": "python3"
  },
  "language_info": {
   "codemirror_mode": {
    "name": "ipython",
    "version": 3
   },
   "file_extension": ".py",
   "mimetype": "text/x-python",
   "name": "python",
   "nbconvert_exporter": "python",
   "pygments_lexer": "ipython3",
   "version": "3.7.3"
  }
 },
 "nbformat": 4,
 "nbformat_minor": 2
}
