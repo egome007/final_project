{
 "cells": [
  {
   "cell_type": "code",
   "execution_count": 11,
   "metadata": {},
   "outputs": [],
   "source": [
    "import glob\n",
    "import os"
   ]
  },
  {
   "cell_type": "code",
   "execution_count": 17,
   "metadata": {},
   "outputs": [],
   "source": [
    "# Rename Craftsman Style House Images\n",
    "path = 'Craftsman'\n",
    "\n",
    "i = 0\n",
    "for filename in os.listdir(path):\n",
    "  os.rename(path+'/'+filename, path+'/craftsman_'+str(i)+'.jpg')\n",
    "  i = i +1"
   ]
  },
  {
   "cell_type": "code",
   "execution_count": null,
   "metadata": {},
   "outputs": [],
   "source": [
    "# Rename Spanish/Mediterranean Style House Images\n",
    "path = 'Spanish'\n",
    "\n",
    "i = 0\n",
    "for filename in os.listdir(path):\n",
    "  os.rename(path+'/'+filename, path+'/spanish_'+str(i)+'.jpg')\n",
    "  i = i +1"
   ]
  },
  {
   "cell_type": "code",
   "execution_count": null,
   "metadata": {},
   "outputs": [],
   "source": [
    "# Rename Tudor Style House Images\n",
    "path = 'Tudor'\n",
    "\n",
    "i = 0\n",
    "for filename in os.listdir(path):\n",
    "  os.rename(path+'/'+filename, path+'/tudor_'+str(i)+'.jpg')\n",
    "  i = i +1"
   ]
  },
  {
   "cell_type": "code",
   "execution_count": null,
   "metadata": {},
   "outputs": [],
   "source": [
    "# Rename Victorian Style House Images\n",
    "path = 'Victorian_'\n",
    "\n",
    "i = 0\n",
    "for filename in os.listdir(path):\n",
    "  os.rename(path+'/'+filename, path+'/victorian'+str(i)+'.jpg')\n",
    "  i = i +1"
   ]
  }
 ],
 "metadata": {
  "kernelspec": {
   "display_name": "Python 3",
   "language": "python",
   "name": "python3"
  },
  "language_info": {
   "codemirror_mode": {
    "name": "ipython",
    "version": 3
   },
   "file_extension": ".py",
   "mimetype": "text/x-python",
   "name": "python",
   "nbconvert_exporter": "python",
   "pygments_lexer": "ipython3",
   "version": "3.7.3"
  }
 },
 "nbformat": 4,
 "nbformat_minor": 2
}
