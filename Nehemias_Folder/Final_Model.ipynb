{
 "cells": [
  {
   "cell_type": "code",
   "execution_count": 23,
   "metadata": {},
   "outputs": [],
   "source": [
    "import matplotlib.pyplot as plt\n",
    "%matplotlib inline\n",
    "\n",
    "from IPython.display import Image, SVG\n",
    "import matplotlib.pyplot as plt\n",
    "import numpy as np\n",
    "np.random.seed(0)\n",
    "\n",
    "\n",
    "import os\n",
    "import numpy as np\n",
    "import tensorflow as tf\n",
    "\n",
    "from tensorflow import keras\n",
    "from tensorflow.keras.preprocessing import image\n",
    "from tensorflow.keras.utils import to_categorical\n",
    "from tensorflow.keras.layers import Dense, Dropout, Flatten\n",
    "from tensorflow.keras.models import Model\n",
    "from tensorflow.keras.applications.vgg19 import (\n",
    "    VGG19, \n",
    "    preprocess_input, \n",
    "    decode_predictions\n",
    ")"
   ]
  },
  {
   "cell_type": "code",
   "execution_count": 24,
   "metadata": {},
   "outputs": [],
   "source": [
    "#Load the model VGG19\n",
    "model = VGG19(include_top=True, weights='imagenet')"
   ]
  },
  {
   "cell_type": "code",
   "execution_count": 25,
   "metadata": {},
   "outputs": [],
   "source": [
    "base_model = VGG19(include_top=True, weights='imagenet')\n",
    "base_model_hidden_outputs = base_model.layers[-4].output\n",
    "# early_skip = base_model.layers[-10].output\n",
    "x = Dense(2056, activation='selu', kernel_initializer='he_uniform', name='my_fc1')(base_model_hidden_outputs)\n",
    "x = Dense(1024, activation='selu', kernel_initializer='he_uniform', name='my_fc2')(x)\n",
    "x = Dense(512, activation='selu', kernel_initializer='he_uniform', name='my_fc3')(x)\n",
    "# x_skip = Dense(2056, activation='selu', kernel_initializer='he_uniform', name='my_skip')(early_skip)\n",
    "# x_skip = keras.layers.Reshape((402976,))(x_skip)\n",
    "# x = keras.layers.concatenate([x, x_skip])\n",
    "x = Dense(3, activation='softmax', name='house_predictions')(x)\n",
    "model1 = Model(inputs=base_model.inputs, outputs=[x])"
   ]
  },
  {
   "cell_type": "code",
   "execution_count": 26,
   "metadata": {},
   "outputs": [
    {
     "name": "stdout",
     "output_type": "stream",
     "text": [
      "Model: \"model_1\"\n",
      "_________________________________________________________________\n",
      "Layer (type)                 Output Shape              Param #   \n",
      "=================================================================\n",
      "input_4 (InputLayer)         [(None, 224, 224, 3)]     0         \n",
      "_________________________________________________________________\n",
      "block1_conv1 (Conv2D)        (None, 224, 224, 64)      1792      \n",
      "_________________________________________________________________\n",
      "block1_conv2 (Conv2D)        (None, 224, 224, 64)      36928     \n",
      "_________________________________________________________________\n",
      "block1_pool (MaxPooling2D)   (None, 112, 112, 64)      0         \n",
      "_________________________________________________________________\n",
      "block2_conv1 (Conv2D)        (None, 112, 112, 128)     73856     \n",
      "_________________________________________________________________\n",
      "block2_conv2 (Conv2D)        (None, 112, 112, 128)     147584    \n",
      "_________________________________________________________________\n",
      "block2_pool (MaxPooling2D)   (None, 56, 56, 128)       0         \n",
      "_________________________________________________________________\n",
      "block3_conv1 (Conv2D)        (None, 56, 56, 256)       295168    \n",
      "_________________________________________________________________\n",
      "block3_conv2 (Conv2D)        (None, 56, 56, 256)       590080    \n",
      "_________________________________________________________________\n",
      "block3_conv3 (Conv2D)        (None, 56, 56, 256)       590080    \n",
      "_________________________________________________________________\n",
      "block3_conv4 (Conv2D)        (None, 56, 56, 256)       590080    \n",
      "_________________________________________________________________\n",
      "block3_pool (MaxPooling2D)   (None, 28, 28, 256)       0         \n",
      "_________________________________________________________________\n",
      "block4_conv1 (Conv2D)        (None, 28, 28, 512)       1180160   \n",
      "_________________________________________________________________\n",
      "block4_conv2 (Conv2D)        (None, 28, 28, 512)       2359808   \n",
      "_________________________________________________________________\n",
      "block4_conv3 (Conv2D)        (None, 28, 28, 512)       2359808   \n",
      "_________________________________________________________________\n",
      "block4_conv4 (Conv2D)        (None, 28, 28, 512)       2359808   \n",
      "_________________________________________________________________\n",
      "block4_pool (MaxPooling2D)   (None, 14, 14, 512)       0         \n",
      "_________________________________________________________________\n",
      "block5_conv1 (Conv2D)        (None, 14, 14, 512)       2359808   \n",
      "_________________________________________________________________\n",
      "block5_conv2 (Conv2D)        (None, 14, 14, 512)       2359808   \n",
      "_________________________________________________________________\n",
      "block5_conv3 (Conv2D)        (None, 14, 14, 512)       2359808   \n",
      "_________________________________________________________________\n",
      "block5_conv4 (Conv2D)        (None, 14, 14, 512)       2359808   \n",
      "_________________________________________________________________\n",
      "block5_pool (MaxPooling2D)   (None, 7, 7, 512)         0         \n",
      "_________________________________________________________________\n",
      "flatten (Flatten)            (None, 25088)             0         \n",
      "_________________________________________________________________\n",
      "my_fc1 (Dense)               (None, 2056)              51582984  \n",
      "_________________________________________________________________\n",
      "my_fc2 (Dense)               (None, 1024)              2106368   \n",
      "_________________________________________________________________\n",
      "my_fc3 (Dense)               (None, 512)               524800    \n",
      "_________________________________________________________________\n",
      "house_predictions (Dense)    (None, 3)                 1539      \n",
      "=================================================================\n",
      "Total params: 74,240,075\n",
      "Trainable params: 74,240,075\n",
      "Non-trainable params: 0\n",
      "_________________________________________________________________\n"
     ]
    }
   ],
   "source": [
    "model1.summary()"
   ]
  },
  {
   "cell_type": "code",
   "execution_count": 27,
   "metadata": {},
   "outputs": [],
   "source": [
    "image_size = (224, 224)\n",
    "x_data = [];\n",
    "y_data = [];"
   ]
  },
  {
   "cell_type": "code",
   "execution_count": 28,
   "metadata": {},
   "outputs": [],
   "source": [
    "#run a for loop that reads through all the photos and appends it to a list along with the house name\n",
    "for i in range(337):\n",
    "    file_name = f\"spanish_{i}.jpg\"\n",
    "    image_path = os.path.join(\"spanish_test\",file_name)\n",
    "    img = image.load_img(image_path,target_size = image_size)\n",
    "    this_image = image.img_to_array(img)\n",
    "    x_data.append(this_image)\n",
    "    y_data.append(\"Spanish\")"
   ]
  },
  {
   "cell_type": "code",
   "execution_count": 29,
   "metadata": {},
   "outputs": [],
   "source": [
    "#run a for loop that reads through all the photos and appends it to a list along with the house name\n",
    "for i in range(337):\n",
    "    file_name = f\"tudor{i}.jpg\"\n",
    "    image_path = os.path.join(\"Tudor_Style_Home\",file_name)\n",
    "    img = image.load_img(image_path,target_size = image_size)\n",
    "    this_image = image.img_to_array(img)\n",
    "    x_data.append(this_image)\n",
    "    y_data.append(\"Tudor\")"
   ]
  },
  {
   "cell_type": "code",
   "execution_count": 30,
   "metadata": {},
   "outputs": [],
   "source": [
    "#run a for loop that reads through all the photos and appends it to a list along with the house name\n",
    "for i in range(439):\n",
    "    file_name = f\"victorian_{i}.jpg\"\n",
    "    image_path = os.path.join(\"Victorian_Style_Resize\",file_name)\n",
    "    img = image.load_img(image_path,target_size = image_size)\n",
    "    this_image = image.img_to_array(img)\n",
    "    x_data.append(this_image)\n",
    "    y_data.append(\"Victorian\")"
   ]
  },
  {
   "cell_type": "code",
   "execution_count": 31,
   "metadata": {},
   "outputs": [],
   "source": [
    "x_data = np.array(x_data)\n",
    "y_data = np.array(y_data)"
   ]
  },
  {
   "cell_type": "code",
   "execution_count": 32,
   "metadata": {},
   "outputs": [
    {
     "name": "stdout",
     "output_type": "stream",
     "text": [
      "X shape: (1113, 224, 224, 3)\n",
      "y shape: (1113,)\n"
     ]
    }
   ],
   "source": [
    "print(f'X shape: {x_data.shape}')\n",
    "print(f'y shape: {y_data.shape}')"
   ]
  },
  {
   "cell_type": "code",
   "execution_count": 33,
   "metadata": {},
   "outputs": [],
   "source": [
    "# Use train_test_split to create training and testing data\n",
    "from sklearn.model_selection import train_test_split\n",
    "\n",
    "X_train, X_test, y_train, y_test = train_test_split(x_data, y_data, random_state=1)"
   ]
  },
  {
   "cell_type": "code",
   "execution_count": 34,
   "metadata": {},
   "outputs": [
    {
     "data": {
      "text/plain": [
       "(834, 3)"
      ]
     },
     "execution_count": 34,
     "metadata": {},
     "output_type": "execute_result"
    }
   ],
   "source": [
    "from sklearn.preprocessing import LabelEncoder\n",
    "label_encoder = LabelEncoder()\n",
    "label_encoder.fit(y_train)\n",
    "y_train = label_encoder.transform(y_train)\n",
    "y_train = to_categorical(y_train)\n",
    "y_train.shape"
   ]
  },
  {
   "cell_type": "code",
   "execution_count": 22,
   "metadata": {},
   "outputs": [],
   "source": [
    "# from sklearn.preprocessing import LabelEncoder\n",
    "# label_encoder = LabelEncoder()\n",
    "# label_encoder.fit(y_data)\n",
    "# y_data = label_encoder.transform(y_data)\n",
    "# y_data = to_categorical(y_data)\n",
    "# y_data"
   ]
  },
  {
   "cell_type": "code",
   "execution_count": 35,
   "metadata": {},
   "outputs": [],
   "source": [
    "#x_data"
   ]
  },
  {
   "cell_type": "code",
   "execution_count": 36,
   "metadata": {},
   "outputs": [],
   "source": [
    "# Use categorical crossentropy for categorical data and mean squared error for regression\n",
    "# Hint: your output layer in this example is using software for logistic regression (categorical)\n",
    "# If your output layer activation was `linear` then you may want to use `mse` for loss\n",
    "model1.compile(optimizer='adam',\n",
    "              loss='categorical_crossentropy',\n",
    "              metrics=['accuracy'])"
   ]
  },
  {
   "cell_type": "code",
   "execution_count": 37,
   "metadata": {
    "scrolled": true
   },
   "outputs": [
    {
     "name": "stdout",
     "output_type": "stream",
     "text": [
      "Train on 750 samples, validate on 84 samples\n",
      "Epoch 1/5\n",
      "750/750 [==============================] - 949s 1s/sample - loss: 15.4789 - accuracy: 0.3333 - val_loss: 1.1116 - val_accuracy: 0.2619\n",
      "Epoch 2/5\n",
      "750/750 [==============================] - 1456s 2s/sample - loss: 1.1158 - accuracy: 0.3600 - val_loss: 1.0997 - val_accuracy: 0.4167\n",
      "Epoch 3/5\n",
      "750/750 [==============================] - 1028s 1s/sample - loss: 1.1119 - accuracy: 0.3453 - val_loss: 1.0861 - val_accuracy: 0.4167\n",
      "Epoch 4/5\n",
      "750/750 [==============================] - 27676s 37s/sample - loss: 1.1099 - accuracy: 0.3680 - val_loss: 1.1020 - val_accuracy: 0.3214\n",
      "Epoch 5/5\n",
      "750/750 [==============================] - 1308s 2s/sample - loss: 1.1217 - accuracy: 0.3587 - val_loss: 1.0850 - val_accuracy: 0.4167\n"
     ]
    }
   ],
   "source": [
    "history = model1.fit(X_train,\n",
    "                     y_train,\n",
    "                     batch_size=2,\n",
    "                     epochs=5,\n",
    "                     shuffle=True,\n",
    "                     validation_split=.1)"
   ]
  },
  {
   "cell_type": "code",
   "execution_count": 22,
   "metadata": {},
   "outputs": [
    {
     "data": {
      "text/plain": [
       "{'loss': [1.5128283659617106], 'accuracy': [0.33333334]}"
      ]
     },
     "execution_count": 22,
     "metadata": {},
     "output_type": "execute_result"
    }
   ],
   "source": [
    "history.history"
   ]
  },
  {
   "cell_type": "code",
   "execution_count": 26,
   "metadata": {},
   "outputs": [
    {
     "data": {
      "text/plain": [
       "(60, 3)"
      ]
     },
     "execution_count": 26,
     "metadata": {},
     "output_type": "execute_result"
    }
   ],
   "source": [
    "y_data.shape"
   ]
  },
  {
   "cell_type": "code",
   "execution_count": 27,
   "metadata": {},
   "outputs": [],
   "source": [
    "x_val = x_data[:5,:,:,:]\n",
    "y_val = y_data[:5,:]"
   ]
  },
  {
   "cell_type": "code",
   "execution_count": 28,
   "metadata": {},
   "outputs": [
    {
     "data": {
      "text/plain": [
       "(5, 224, 224, 3)"
      ]
     },
     "execution_count": 28,
     "metadata": {},
     "output_type": "execute_result"
    }
   ],
   "source": [
    "x_val.shape"
   ]
  },
  {
   "cell_type": "code",
   "execution_count": null,
   "metadata": {},
   "outputs": [],
   "source": []
  }
 ],
 "metadata": {
  "kernelspec": {
   "display_name": "Python 3",
   "language": "python",
   "name": "python3"
  },
  "language_info": {
   "codemirror_mode": {
    "name": "ipython",
    "version": 3
   },
   "file_extension": ".py",
   "mimetype": "text/x-python",
   "name": "python",
   "nbconvert_exporter": "python",
   "pygments_lexer": "ipython3",
   "version": "3.7.3"
  }
 },
 "nbformat": 4,
 "nbformat_minor": 2
}
